{
 "cells": [
  {
   "cell_type": "code",
   "execution_count": null,
   "metadata": {},
   "outputs": [],
   "source": [
    "import os\n",
    "import tensorflow as tf\n",
    "from tensorflow.python.keras import models\n",
    "from tensorflow.python.keras import backend as K\n",
    "from tensorflow.python.keras.applications.vgg16 import preprocess_input, decode_predictions\n",
    "from scipy.misc import imresize\n",
    "from cs231n.image_utils import load_image\n",
    "tf.reset_default_graph()\n",
    "with tf.Session() as sess:\n",
    "    # Load our model. We load pretrained VGG, trained on imagenet data\n",
    "    vgg = tf.keras.applications.vgg16.VGG16(include_top=True, weights='imagenet')\n",
    "#     init_op = tf.global_variables_initializer()\n",
    "#     file_path = os.path.expanduser('~/.keras/models/vgg16_weights_tf_dim_ordering_tf_kernels.h5')\n",
    "#     vggSess.run(init_op)\n",
    "#     vgg.load_weights(file_path, by_name=True)\n",
    "#     vgg.trainable = False\n",
    "    saver = tf.train.Saver(tf.trainable_variables(), max_to_keep=0)\n",
    "    save_path = saver.save(K.get_session(), \"cs231n/datasets/vgg16.ckpt\")\n",
    "    print(\"Model saved in path: %s\" % save_path)\n",
    "#     x = preprocess_input(imresize(load_image('styles/tubingen.jpg'), (224,224)))\n",
    "#     preds = vgg.predict(x[None])\n",
    "#     print('Predicted:', decode_predictions(preds, top=3)[0])"
   ]
  },
  {
   "cell_type": "code",
   "execution_count": null,
   "metadata": {},
   "outputs": [],
   "source": [
    "import os\n",
    "from tensorflow.python import keras\n",
    "# Add ops to save and restore all the variables.\n",
    "file_path = os.path.expanduser('~/.keras/models/vgg16_weights_tf_dim_ordering_tf_kernels.h5')\n",
    "model = keras.models.load_model(file_path)\n",
    "sess = keras.backend.get_session()\n",
    "saver = tf.train.Saver(tf.trainable_variables())\n",
    "save_path = saver.save(sess, \"/tmp/vgg16.ckpt\")"
   ]
  },
  {
   "cell_type": "code",
   "execution_count": null,
   "metadata": {},
   "outputs": [],
   "source": [
    "import tensorflow as tf\n",
    "from tensorflow.python.keras import models\n",
    "from tensorflow.python.keras import backend as K\n",
    "from tensorflow.python.keras.applications.vgg19 import preprocess_input, decode_predictions\n",
    "from scipy.misc import imresize\n",
    "from cs231n.image_utils import load_image\n",
    "\n",
    "tf.reset_default_graph()\n",
    "with tf.Session() as sess:\n",
    "    # Load our model. We load pretrained VGG, trained on imagenet data\n",
    "    vgg = tf.keras.applications.vgg19.VGG19(include_top=True, weights='imagenet')\n",
    "    saver = tf.train.Saver(tf.trainable_variables(), max_to_keep=0)\n",
    "    save_path = saver.save(K.get_session(), \"cs231n/datasets/vgg19.ckpt\")\n",
    "    print(\"Model saved in path: %s\" % save_path)\n",
    "    x = preprocess_input(imresize(load_image('styles/tubingen.jpg'), (224,224)))\n",
    "    preds = vgg.predict(x[None])\n",
    "    print('Predicted:', decode_predictions(preds, top=3)[0])"
   ]
  },
  {
   "cell_type": "code",
   "execution_count": null,
   "metadata": {},
   "outputs": [],
   "source": []
  }
 ],
 "metadata": {
  "kernelspec": {
   "display_name": "Python 3",
   "language": "python",
   "name": "python3"
  },
  "language_info": {
   "codemirror_mode": {
    "name": "ipython",
    "version": 3
   },
   "file_extension": ".py",
   "mimetype": "text/x-python",
   "name": "python",
   "nbconvert_exporter": "python",
   "pygments_lexer": "ipython3",
   "version": "3.6.7"
  }
 },
 "nbformat": 4,
 "nbformat_minor": 2
}
